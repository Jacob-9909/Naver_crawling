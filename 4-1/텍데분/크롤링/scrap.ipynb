{
 "cells": [
  {
   "cell_type": "code",
   "execution_count": 1,
   "metadata": {},
   "outputs": [
    {
     "name": "stderr",
     "output_type": "stream",
     "text": [
      "C:\\Users\\wooyong\\AppData\\Roaming\\Python\\Python39\\site-packages\\pandas\\core\\arrays\\masked.py:60: UserWarning: Pandas requires version '1.3.6' or newer of 'bottleneck' (version '1.3.5' currently installed).\n",
      "  from pandas.core import (\n"
     ]
    }
   ],
   "source": [
    "import os\n",
    "import pandas as pd\n",
    "\n",
    "from wordcloud import WordCloud\n",
    "import copy\n",
    "import re\n",
    "import numpy as np\n",
    "import pandas as pd\n",
    "import matplotlib.pyplot as plt\n",
    "%matplotlib inline\n",
    "from kiwipiepy import Kiwi\n",
    "kiwi = Kiwi(typos='basic')\n",
    "from kiwipiepy.utils import Stopwords\n",
    "stopwords = Stopwords()"
   ]
  },
  {
   "cell_type": "code",
   "execution_count": 4,
   "metadata": {},
   "outputs": [],
   "source": [
    "# 각 폴더의 경로 설정\n",
    "folders = [\n",
    "    'I:\\\\내 드라이브\\\\4-1\\\\텍데분\\\\크롤링\\\\크롤링폴더\\\\국민의힘',\n",
    "    'I:\\\\내 드라이브\\\\4-1\\\\텍데분\\\\크롤링\\\\크롤링폴더\\\\날씨',\n",
    "    'I:\\\\내 드라이브\\\\4-1\\\\텍데분\\\\크롤링\\\\크롤링폴더\\\\민주당',\n",
    "    'I:\\\\내 드라이브\\\\4-1\\\\텍데분\\\\크롤링\\\\크롤링폴더\\\\의대',\n",
    "    'I:\\\\내 드라이브\\\\4-1\\\\텍데분\\\\크롤링\\\\크롤링폴더\\\\전쟁',\n",
    "    'I:\\\\내 드라이브\\\\4-1\\\\텍데분\\\\크롤링\\\\크롤링폴더\\\\정부'\n",
    "]\n",
    "# 빈 데이터프레임 생성\n",
    "combined_df = pd.DataFrame()\n",
    "\n",
    "# 전체 파일 개수\n",
    "total_file_count = 0\n",
    "\n",
    "# 각 폴더를 순회\n",
    "for folder_path in folders:\n",
    "    if os.path.isdir(folder_path):\n",
    "        # 폴더 내의 모든 CSV 파일을 확인\n",
    "        for file_name in os.listdir(folder_path):\n",
    "            if file_name.endswith('.csv'):\n",
    "                file_path = os.path.join(folder_path, file_name)\n",
    "                # CSV 파일을 읽어서 데이터프레임에 추가\n",
    "                df = pd.read_csv(file_path)\n",
    "                combined_df = pd.concat([combined_df, df], ignore_index=True)\n",
    "                total_file_count += 1"
   ]
  },
  {
   "cell_type": "code",
   "execution_count": 5,
   "metadata": {},
   "outputs": [
    {
     "name": "stdout",
     "output_type": "stream",
     "text": [
      "<class 'pandas.core.frame.DataFrame'>\n",
      "RangeIndex: 15750 entries, 0 to 15749\n",
      "Data columns (total 4 columns):\n",
      " #   Column   Non-Null Count  Dtype \n",
      "---  ------   --------------  ----- \n",
      " 0   link     15750 non-null  object\n",
      " 1   pubdate  15750 non-null  object\n",
      " 2   title    15750 non-null  object\n",
      " 3   body     15720 non-null  object\n",
      "dtypes: object(4)\n",
      "memory usage: 492.3+ KB\n"
     ]
    }
   ],
   "source": [
    "combined_df.info()"
   ]
  },
  {
   "cell_type": "code",
   "execution_count": 6,
   "metadata": {},
   "outputs": [],
   "source": [
    "# # 중복 행 제거\n",
    "combined_df.drop_duplicates(subset=['title'], inplace=True)"
   ]
  },
  {
   "cell_type": "code",
   "execution_count": 7,
   "metadata": {},
   "outputs": [
    {
     "name": "stdout",
     "output_type": "stream",
     "text": [
      "총 CSV 파일 개수: 192\n",
      "중복 제거 후 행 개수: 7037\n"
     ]
    }
   ],
   "source": [
    "# 결과 출력\n",
    "print(f\"총 CSV 파일 개수: {total_file_count}\")\n",
    "print(f\"중복 제거 후 행 개수: {combined_df.shape[0]}\")\n",
    "\n",
    "# 중복 제거된 데이터를 새로운 CSV 파일로 저장 (원하는 경우)\n",
    "output_path = 'G:\\\\내 드라이브\\\\4-1\\\\텍데분\\\\크롤링\\\\크롤링폴더\\\\combined.csv'\n",
    "# combined_df.to_csv(output_path, index=False)"
   ]
  },
  {
   "cell_type": "code",
   "execution_count": 8,
   "metadata": {},
   "outputs": [],
   "source": [
    "kiwi = Kiwi(typos='basic')\n",
    "stopwords = Stopwords()\n",
    "\n",
    "def preprocess_korean(text, analyzer=kiwi, stopwords=stopwords):\n",
    "    my_text = copy.copy(text)\n",
    "    my_text = my_text.replace('\\n', ' ') # (1) 줄바꿈 문자 제거\n",
    "    my_text = kiwi.space(my_text) # (2) 띄어쓰기 교정\n",
    "    sents = kiwi.split_into_sents(my_text) # (3) 문장 토큰화\n",
    "    p = re.compile('[^ㄱ-ㅎㅏ-ㅣ가-힣 ]')\n",
    "    all_result = []\n",
    "    for sent in sents:\n",
    "    \n",
    "        token_result = kiwi.tokenize(sent.text, stopwords=stopwords) # (4) 형태소 분석 + 간단한 오타 교정\n",
    "        token_result = kiwi.join(token_result)\n",
    "        token_result = p.sub(' ', token_result) # (5) 특수 문자 제거 (=한글을 제외한 문자 제거)\n",
    "        all_result.append(token_result) # (6) 형태소 분석한 결과를 다시 join\n",
    "    \n",
    "    all_result = ' '.join(all_result) # (7) 모든 문장을 하나의 string으로 join\n",
    "\n",
    "    return all_result\n",
    "\n",
    "# # 예시 텍스트\n",
    "# example_text = \"안녕하세요! 이 문장은 전처리 됩니다.\\n이 문장도 전처리됩니다. 1234\"\n",
    "# print(preprocess_korean(example_text))"
   ]
  },
  {
   "cell_type": "code",
   "execution_count": 9,
   "metadata": {},
   "outputs": [
    {
     "name": "stdout",
     "output_type": "stream",
     "text": [
      "CPU times: total: 42.3 s\n",
      "Wall time: 55.4 s\n"
     ]
    }
   ],
   "source": [
    "%%time\n",
    "combined_df['preprocessed_title'] = combined_df['title'].apply(lambda x: preprocess_korean(x))"
   ]
  },
  {
   "cell_type": "code",
   "execution_count": 10,
   "metadata": {},
   "outputs": [],
   "source": [
    "# # 중복 행 제거\n",
    "combined_df.drop_duplicates(subset=['preprocessed_title'], inplace=True)"
   ]
  },
  {
   "cell_type": "code",
   "execution_count": 11,
   "metadata": {},
   "outputs": [
    {
     "data": {
      "text/plain": [
       "(6791, 5)"
      ]
     },
     "execution_count": 11,
     "metadata": {},
     "output_type": "execute_result"
    }
   ],
   "source": [
    "combined_df.shape"
   ]
  }
 ],
 "metadata": {
  "kernelspec": {
   "display_name": "base",
   "language": "python",
   "name": "python3"
  },
  "language_info": {
   "codemirror_mode": {
    "name": "ipython",
    "version": 3
   },
   "file_extension": ".py",
   "mimetype": "text/x-python",
   "name": "python",
   "nbconvert_exporter": "python",
   "pygments_lexer": "ipython3",
   "version": "3.9.16"
  }
 },
 "nbformat": 4,
 "nbformat_minor": 2
}
