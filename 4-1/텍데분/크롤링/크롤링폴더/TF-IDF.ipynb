{
 "cells": [
  {
   "cell_type": "code",
   "execution_count": 1,
   "metadata": {},
   "outputs": [],
   "source": [
    "import os\n",
    "import pandas as pd\n",
    "from wordcloud import WordCloud\n",
    "import copy\n",
    "import re\n",
    "import numpy as np\n",
    "import matplotlib.pyplot as plt\n",
    "%matplotlib inline\n",
    "from kiwipiepy import Kiwi\n",
    "kiwi = Kiwi(typos='basic')\n",
    "from kiwipiepy.utils import Stopwords\n",
    "stopwords = Stopwords()\n",
    "from sklearn.feature_extraction.text import TfidfVectorizer\n",
    "from sklearn.metrics.pairwise import cosine_similarity"
   ]
  },
  {
   "cell_type": "code",
   "execution_count": 2,
   "metadata": {},
   "outputs": [],
   "source": [
    "df_국민의힘 = pd.read_csv('G://내 드라이브//4-1//텍데분//크롤링//크롤링폴더//전처리데이터//df국민의힘.csv')\n",
    "df_날씨 = pd.read_csv('G://내 드라이브//4-1//텍데분//크롤링//크롤링폴더//전처리데이터//df날씨.csv')\n",
    "df_민주당 = pd.read_csv('G://내 드라이브//4-1//텍데분//크롤링//크롤링폴더//전처리데이터//df민주당.csv')\n",
    "df_의대 = pd.read_csv('G://내 드라이브//4-1//텍데분//크롤링//크롤링폴더//전처리데이터//df의대.csv')\n",
    "df_전쟁 = pd.read_csv('G://내 드라이브//4-1//텍데분//크롤링//크롤링폴더//전처리데이터//df전쟁.csv')\n",
    "df_정부 = pd.read_csv('G://내 드라이브//4-1//텍데분//크롤링//크롤링폴더//전처리데이터//df정부.csv')\n",
    "\n",
    "df_구글 = pd.read_csv('G://내 드라이브//4-1//텍데분//크롤링//크롤링폴더//전처리데이터//df구글.csv')\n",
    "df_금리 = pd.read_csv('G://내 드라이브//4-1//텍데분//크롤링//크롤링폴더//전처리데이터//df금리.csv')\n",
    "df_네이버 = pd.read_csv('G://내 드라이브//4-1//텍데분//크롤링//크롤링폴더//전처리데이터//df네이버.csv')\n",
    "df_부동산 = pd.read_csv('G://내 드라이브//4-1//텍데분//크롤링//크롤링폴더//전처리데이터//df부동산.csv')\n",
    "df_삼성 = pd.read_csv('G://내 드라이브//4-1//텍데분//크롤링//크롤링폴더//전처리데이터//df삼성.csv')\n",
    "df_애플 = pd.read_csv('G://내 드라이브//4-1//텍데분//크롤링//크롤링폴더//전처리데이터//df애플.csv')\n",
    "df_주식 = pd.read_csv('G://내 드라이브//4-1//텍데분//크롤링//크롤링폴더//전처리데이터//df주식.csv')\n",
    "\n",
    "news_df = pd.concat([df_국민의힘,df_날씨,df_민주당,df_의대,df_전쟁,df_정부, df_구글, df_금리, df_네이버, df_부동산,df_삼성,df_애플,df_주식],ignore_index=True )"
   ]
  },
  {
   "cell_type": "markdown",
   "metadata": {},
   "source": [
    "### 국민의힘: 0~1645  날씨: 1646~3610  민주당:  3611~5441  의대:  5442~7797  전쟁: 7798~9263  정부: 9264~12233 구글: 12234~12982  \n",
    "### 금리: 12983~14543 네이버: 14544~15495 부동산: 15496~16938  삼성: 16939~18993 애플: 18994~19695 주식: 19696~20988"
   ]
  },
  {
   "cell_type": "markdown",
   "metadata": {},
   "source": [
    "# Body tf-idf"
   ]
  },
  {
   "cell_type": "code",
   "execution_count": 72,
   "metadata": {},
   "outputs": [
    {
     "name": "stdout",
     "output_type": "stream",
     "text": [
      "문서 20741: [미장브리핑] 28일부터 미국 증권거래 결제일 T+1로 --- 와 유사한 문서들:\n",
      "문서 19731: 5월 28일부터 미국 주식 '주문 다음 날' 결제된다 (유사도: 0.507)\n",
      "문서 19797: 이달말 美주식 'T+1일 결제'…예탁원 \"국내 주식 거래 큰 영향 없어\" (유사도: 0.502)\n",
      "문서 19722: 미국 주식시장 결제일 28일부터 'T+1'로 단축 (유사도: 0.498)\n",
      "문서 19926: 美 결제주기 T+1로 단축...\"28일 이행준비 완료\" (유사도: 0.494)\n",
      "문서 19751: 이달말 美주식 'T+1일 결제'…예탁원, 업무방식·전산제도 개선 (유사도: 0.482)\n",
      "문서 19721: 미국 주식 결제주기, 28일부터 'T+1일'로 하루 앞당겨진다 (유사도: 0.475)\n",
      "문서 19808: 예탁원, ‘美주식 결제주기 T+1 단축’ 막바지 준비 (유사도: 0.470)\n",
      "문서 19704: 28일부터 美 주식 거래 다음 날 돈 들어온다… 예결원 “준비 완료” (유사도: 0.470)\n",
      "문서 20763: 월요일에 엔비디아 주식 팔면 수요일에 입금…결제주기 단축 여파는 (유사도: 0.466)\n",
      "문서 19757: 美주식 결제주기 1일 단축…예결원, 국내 증권사와 대응책 마련 (유사도: 0.465)\n",
      "\n",
      "\n",
      "문서 20741: [미장브리핑] 28일부터 미국 증권거래 결제일 T+1로 --- 와 유사한 문서들:\n",
      "문서 19722: 미국 주식시장 결제일 28일부터 'T+1'로 단축 (유사도: 0.422)\n",
      "문서 10769: 미장브리핑 美정부 비축유 100만배럴 푼다 (유사도: 0.415)\n",
      "문서 20247: 28일부터 미국 주식 결제일 하루 앞당겨져…“미수거래 주의해야” (유사도: 0.400)\n",
      "문서 14354: [미장브리핑] 메모리얼데이 휴장…ECB 6월 금리 인하 가능성↑ (유사도: 0.369)\n",
      "문서 19978: 美 주식시장 결제일 28일부터 'T+1'로 단축 (유사도: 0.330)\n",
      "문서 20228: 하루 앞당겨지는 미국 주식 결제일…투자자 유의점은? (유사도: 0.327)\n",
      "문서 20246: 미국 주식 결제일, 하루 앞당겨진다…서학개미 주의점은? (유사도: 0.317)\n",
      "문서 18575: \"삼성을 믿어\"…3년 만의 베팅 [백브리핑] (유사도: 0.242)\n",
      "문서 13510: 하나증권 \"미국 연준 금리 인하 시 하반기 코스피 3,100까지 상승\" (유사도: 0.232)\n",
      "문서 20312: 라이시 대통령 사망에 이란 증권거래소 거래 중단 (유사도: 0.225)\n"
     ]
    }
   ],
   "source": [
    "import numpy as np\n",
    "import pandas as pd\n",
    "from sklearn.feature_extraction.text import TfidfVectorizer\n",
    "from sklearn.metrics.pairwise import cosine_similarity\n",
    "from joblib import Parallel, delayed\n",
    "\n",
    "# 전처리된 문서 리스트\n",
    "preprocessed_documents = news_df['preprocessed_body']\n",
    "\n",
    "# TF-IDF 벡터라이저 초기화 및 문서 변환\n",
    "vectorizer = TfidfVectorizer()\n",
    "tfidf_matrix = vectorizer.fit_transform(preprocessed_documents)\n",
    "\n",
    "def compute_similarity(doc_index):\n",
    "    # 특정 문서와 다른 문서 간의 코사인 유사도 계산\n",
    "    cosine_similarities = cosine_similarity(tfidf_matrix[doc_index], tfidf_matrix).flatten()\n",
    "    return cosine_similarities\n",
    "\n",
    "def get_similar_documents(doc_index, top_n=10):\n",
    "    # 특정 문서에 대한 코사인 유사도 계산\n",
    "    cosine_similarities = compute_similarity(doc_index)\n",
    "\n",
    "    # 유사도가 높은 순서대로 문서 정렬 (자신 제외)\n",
    "    similar_docs_indices = np.argsort(-cosine_similarities)[1:top_n+1]\n",
    "    \n",
    "    print(f\"문서 {doc_index}: {news_df['title'][doc_index]} --- 와 유사한 문서들:\")\n",
    "    for idx in similar_docs_indices:\n",
    "        print(f\"문서 {idx}: {news_df['title'][idx]} (유사도: {cosine_similarities[idx]:.3f})\")\n",
    "\n",
    "# 예제: n번째 문서와 유사한 10개의 문서 찾기\n",
    "doc_index = int(input('인덱스 번호를 입력하세요: '))\n",
    "get_similar_documents(doc_index, top_n=10)\n"
   ]
  },
  {
   "cell_type": "markdown",
   "metadata": {},
   "source": [
    "# Title tf-idf"
   ]
  },
  {
   "cell_type": "markdown",
   "metadata": {},
   "source": [
    "### 국민의힘: 0~1645  날씨: 1646~3610  민주당:  3611~5441  의대:  5442~7797  전쟁: 7798~9263  정부: 9264~12233 구글: 12234~12982  \n",
    "### 금리: 12983~14543 네이버: 14544~15495 부동산: 15496~16938  삼성: 16939~18993 애플: 18994~19695 주식: 19696~20988"
   ]
  },
  {
   "cell_type": "code",
   "execution_count": 42,
   "metadata": {},
   "outputs": [
    {
     "name": "stdout",
     "output_type": "stream",
     "text": [
      "문서 3015: 오늘의 날씨울산26일 일늦은 오후부터 강풍 동반 비 --- 와 유사한 문서들:\n",
      "문서 1734: 오늘의 날씨울산15일 수늦은 오후부터 강풍 동반 비 (유사도: 1.000)\n",
      "문서 1759: 오늘의 날씨 부산경남14일 수늦은 오후부터 강풍 동반 비 (유사도: 0.692)\n",
      "문서 3336: 오늘의 날씨울산28일 화아침 기온 뚝 강풍주의 (유사도: 0.565)\n",
      "문서 3024: 오늘의 날씨울산27일 월강풍 조심 낮 최고 26도 (유사도: 0.563)\n",
      "문서 3205: 오늘의 날씨울산25일 토오후부터 맑음 낮 최고 21도 (유사도: 0.555)\n",
      "문서 1832: 날씨 전국에 강풍 동반한 비언제까지 오나 (유사도: 0.547)\n",
      "문서 3164: 날씨 오늘 오후부터 비곳곳 돌풍벼락 동반 (유사도: 0.497)\n",
      "문서 1771: 오늘의 날씨 광주전남15일 수오후 5 비강풍주의 (유사도: 0.491)\n",
      "문서 2328: 오늘의 날씨 울산18일 토낮 최고 27도 일교차 커 (유사도: 0.471)\n",
      "문서 2623: 오늘의 날씨울산22일 수낮 최고 25도 일교차 커 (유사도: 0.471)\n"
     ]
    }
   ],
   "source": [
    "import numpy as np\n",
    "import pandas as pd\n",
    "from sklearn.feature_extraction.text import TfidfVectorizer\n",
    "from sklearn.metrics.pairwise import cosine_similarity\n",
    "from joblib import Parallel, delayed\n",
    "\n",
    "# 전처리된 문서 리스트\n",
    "preprocessed_documents = news_df['preprocessed_title']\n",
    "\n",
    "# TF-IDF 벡터라이저 초기화 및 문서 변환\n",
    "vectorizer = TfidfVectorizer()\n",
    "tfidf_matrix = vectorizer.fit_transform(preprocessed_documents)\n",
    "\n",
    "def compute_similarity(doc_index):\n",
    "    # 특정 문서와 다른 문서 간의 코사인 유사도 계산\n",
    "    cosine_similarities = cosine_similarity(tfidf_matrix[doc_index], tfidf_matrix).flatten()\n",
    "    return cosine_similarities\n",
    "\n",
    "def get_similar_documents(doc_index, top_n=10):\n",
    "    # 특정 문서에 대한 코사인 유사도 계산\n",
    "    cosine_similarities = compute_similarity(doc_index)\n",
    "\n",
    "    # 유사도가 높은 순서대로 문서 정렬 (자신 제외)\n",
    "    similar_docs_indices = np.argsort(-cosine_similarities)[1:top_n+1]\n",
    "    \n",
    "    print(f\"문서 {doc_index}: {news_df['title'][doc_index]} --- 와 유사한 문서들:\")\n",
    "    for idx in similar_docs_indices:\n",
    "        print(f\"문서 {idx}: {news_df['title'][idx]} (유사도: {cosine_similarities[idx]:.3f})\")\n",
    "\n",
    "# 예제: n번째 문서와 유사한 10개의 문서 찾기\n",
    "doc_index = int(input('인덱스 번호를 입력하세요: '))\n",
    "get_similar_documents(doc_index, top_n=10)\n"
   ]
  }
 ],
 "metadata": {
  "kernelspec": {
   "display_name": "kiwi",
   "language": "python",
   "name": "python3"
  },
  "language_info": {
   "codemirror_mode": {
    "name": "ipython",
    "version": 3
   },
   "file_extension": ".py",
   "mimetype": "text/x-python",
   "name": "python",
   "nbconvert_exporter": "python",
   "pygments_lexer": "ipython3",
   "version": "3.10.14"
  }
 },
 "nbformat": 4,
 "nbformat_minor": 2
}
